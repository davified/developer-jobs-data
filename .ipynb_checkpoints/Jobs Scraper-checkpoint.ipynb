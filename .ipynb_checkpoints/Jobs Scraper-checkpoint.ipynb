{
 "cells": [
  {
   "cell_type": "markdown",
   "metadata": {},
   "source": [
    "# Jobs dashboard project\n",
    "Scraping indeed.com for web developer jobs in Singapore to provide an almost-real-time (once a day) summary of the demand for tech jobs in Singapore. It also includes details on job requirements (e.g. skills, years of experience, programming languages, etc)."
   ]
  },
  {
   "cell_type": "code",
   "execution_count": 1,
   "metadata": {
    "collapsed": true
   },
   "outputs": [],
   "source": [
    "from bs4 import BeautifulSoup\n",
    "import requests\n",
    "import pandas as pd\n",
    "import numpy as np\n",
    "import csv\n",
    "import time\n",
    "import json\n",
    "from pandas.io.json import json_normalize"
   ]
  },
  {
   "cell_type": "code",
   "execution_count": 2,
   "metadata": {
    "collapsed": true
   },
   "outputs": [],
   "source": [
    "%matplotlib inline\n",
    "#import matplotlib\n",
    "import matplotlib.pyplot as plt\n",
    "plt.style.use('ggplot')\n",
    "import plotly.plotly as py\n",
    "import plotly.graph_objs as go\n",
    "import cufflinks as cf\n",
    "import plotly.tools as tls\n",
    "from pandas import set_option\n",
    "set_option(\"display.max_rows\", 10)"
   ]
  },
  {
   "cell_type": "markdown",
   "metadata": {},
   "source": [
    "## Let's scrape indeed.com!\n",
    "link: http://www.indeed.com.sg/jobs?q=developer&l=Singapore"
   ]
  },
  {
   "cell_type": "code",
   "execution_count": null,
   "metadata": {
    "collapsed": false
   },
   "outputs": [],
   "source": [
    "#The standard beautifulsoup incantation to scrape a given URL\n",
    "url = ('http://www.indeed.com.sg/jobs?q=developer&l=Singapore')\n",
    "r = requests.get(url)\n",
    "soup = BeautifulSoup(r.text, \"html\")\n",
    "print soup.prettify()"
   ]
  },
  {
   "cell_type": "code",
   "execution_count": null,
   "metadata": {
    "collapsed": false
   },
   "outputs": [],
   "source": [
    "#Creating an array containing job titles\n",
    "jobTitles = []\n",
    "for item in soup.find_all('a',{'data-tn-element':'jobTitle'}):\n",
    "    jobTitles.append(item.attrs['title'])\n",
    "print jobTitles"
   ]
  },
  {
   "cell_type": "code",
   "execution_count": null,
   "metadata": {
    "collapsed": false
   },
   "outputs": [],
   "source": [
    "#Creating an array containing corresponding companies\n",
    "companies = []\n",
    "for item in soup.find_all('span',{'class':'company'}):\n",
    "    companies.append(item.text.replace('\\n', '').replace('  ', ''))\n",
    "companies"
   ]
  },
  {
   "cell_type": "markdown",
   "metadata": {},
   "source": [
    "## Putting it altogether"
   ]
  },
  {
   "cell_type": "code",
   "execution_count": 23,
   "metadata": {
    "collapsed": false
   },
   "outputs": [],
   "source": [
    "pages = pd.Series(np.arange(0,1000,50))\n",
    "consolidated_table = [] # let's create an array to hold the arrays returned from each scraped page\n",
    "for page in pages:\n",
    "    try: \n",
    "        #The standard beautifulsoup incantation to scrape a given URL\n",
    "\n",
    "        url = ('http://www.indeed.com.sg/jobs?q=developer&l=Singapore&limit=50&radius=10&start=' + ''' + i ''')\n",
    "        r = requests.get(url)\n",
    "        soup = BeautifulSoup(r.text, \"html\")\n",
    "\n",
    "        #Creating an array containing job titles\n",
    "        jobTitles = []\n",
    "        for item in soup.find_all('a',{'data-tn-element':'jobTitle'}):\n",
    "            jobTitles.append(item.attrs['title'])\n",
    "\n",
    "        #Creating an array containing corresponding companies\n",
    "        companies = []\n",
    "        for item in soup.find_all('span',{'class':'company'}):\n",
    "            companies.append(item.text.replace('\\n', '').replace('  ', ''))\n",
    "\n",
    "        #Creating an array containing corresponding job descriptions\n",
    "        descriptions = []\n",
    "        for item in soup.find_all('span',{'class':'summary'}):\n",
    "            descriptions.append(item.text.replace('\\n', ''))\n",
    "            \n",
    "        #concatenating the table\n",
    "        table = pd.DataFrame({'jobTitle': pd.Series(jobTitles),\n",
    "                             'company': pd.Series(companies),\n",
    "                             'description': pd.Series(descriptions)})\n",
    "        table = table[['jobTitle', 'description', 'company']]\n",
    "\n",
    "        consolidated_table.append(table)\n",
    "\n",
    "    except:\n",
    "        pass\n",
    "consolidated_table = pd.concat(consolidated_table, axis = 0)"
   ]
  },
  {
   "cell_type": "code",
   "execution_count": 24,
   "metadata": {
    "collapsed": false
   },
   "outputs": [],
   "source": []
  },
  {
   "cell_type": "code",
   "execution_count": 11,
   "metadata": {
    "collapsed": false,
    "scrolled": true
   },
   "outputs": [
    {
     "data": {
      "text/html": [
       "<div>\n",
       "<table border=\"1\" class=\"dataframe\">\n",
       "  <thead>\n",
       "    <tr style=\"text-align: right;\">\n",
       "      <th></th>\n",
       "      <th>jobTitle</th>\n",
       "      <th>description</th>\n",
       "      <th>company</th>\n",
       "    </tr>\n",
       "  </thead>\n",
       "  <tbody>\n",
       "    <tr>\n",
       "      <th>0</th>\n",
       "      <td>Software Engineer (.Net)</td>\n",
       "      <td>Our client a service provider within the healt...</td>\n",
       "      <td>Berkley Recruitment Group</td>\n",
       "    </tr>\n",
       "    <tr>\n",
       "      <th>1</th>\n",
       "      <td>WEB PROGRAMMER</td>\n",
       "      <td>A web programmer plans, creates and codes on t...</td>\n",
       "      <td>Emboss Creative &amp; Design Pte Ltd</td>\n",
       "    </tr>\n",
       "    <tr>\n",
       "      <th>2</th>\n",
       "      <td>Software Programmer</td>\n",
       "      <td>• Minimum 4 years of professional experience w...</td>\n",
       "      <td>INFO-TECH SYSTEMS INTEGRATORS PTE LTD</td>\n",
       "    </tr>\n",
       "    <tr>\n",
       "      <th>3</th>\n",
       "      <td>Senior IT Developer</td>\n",
       "      <td>Snr IT Developer with J2EE Development &amp; Deplo...</td>\n",
       "      <td>Aryan Search Pte Ltd</td>\n",
       "    </tr>\n",
       "    <tr>\n",
       "      <th>4</th>\n",
       "      <td>Web Developer</td>\n",
       "      <td>Job Responsibilities:  * Design and develop ap...</td>\n",
       "      <td>Infinity JobCom</td>\n",
       "    </tr>\n",
       "    <tr>\n",
       "      <th>...</th>\n",
       "      <td>...</td>\n",
       "      <td>...</td>\n",
       "      <td>...</td>\n",
       "    </tr>\n",
       "    <tr>\n",
       "      <th>50</th>\n",
       "      <td>Assistant Manager/Manager, Data Analytics</td>\n",
       "      <td>Programming knowledge and experience with Hado...</td>\n",
       "      <td>SourceClear</td>\n",
       "    </tr>\n",
       "    <tr>\n",
       "      <th>51</th>\n",
       "      <td>Software Engineer - Agent</td>\n",
       "      <td>As a Java Engineer in the agents and developer...</td>\n",
       "      <td>Paktor</td>\n",
       "    </tr>\n",
       "    <tr>\n",
       "      <th>52</th>\n",
       "      <td>Senior Android Lead/ Developer</td>\n",
       "      <td>The projects on our plate are amazing, and we'...</td>\n",
       "      <td>1LIVEWELL PTE. LTD.</td>\n",
       "    </tr>\n",
       "    <tr>\n",
       "      <th>53</th>\n",
       "      <td>Web Developer / Programmer</td>\n",
       "      <td>Requirements: Minimum Diploma in Computer Scie...</td>\n",
       "      <td>GoDigital Singapore</td>\n",
       "    </tr>\n",
       "    <tr>\n",
       "      <th>54</th>\n",
       "      <td>Front-End Web Developer</td>\n",
       "      <td>&gt; An experienced HTML developer with strong CS...</td>\n",
       "      <td>NaN</td>\n",
       "    </tr>\n",
       "  </tbody>\n",
       "</table>\n",
       "<p>55 rows × 3 columns</p>\n",
       "</div>"
      ],
      "text/plain": [
       "                                     jobTitle  \\\n",
       "0                    Software Engineer (.Net)   \n",
       "1                              WEB PROGRAMMER   \n",
       "2                         Software Programmer   \n",
       "3                         Senior IT Developer   \n",
       "4                               Web Developer   \n",
       "..                                        ...   \n",
       "50  Assistant Manager/Manager, Data Analytics   \n",
       "51                  Software Engineer - Agent   \n",
       "52             Senior Android Lead/ Developer   \n",
       "53                 Web Developer / Programmer   \n",
       "54                    Front-End Web Developer   \n",
       "\n",
       "                                          description  \\\n",
       "0   Our client a service provider within the healt...   \n",
       "1   A web programmer plans, creates and codes on t...   \n",
       "2   • Minimum 4 years of professional experience w...   \n",
       "3   Snr IT Developer with J2EE Development & Deplo...   \n",
       "4   Job Responsibilities:  * Design and develop ap...   \n",
       "..                                                ...   \n",
       "50  Programming knowledge and experience with Hado...   \n",
       "51  As a Java Engineer in the agents and developer...   \n",
       "52  The projects on our plate are amazing, and we'...   \n",
       "53  Requirements: Minimum Diploma in Computer Scie...   \n",
       "54  > An experienced HTML developer with strong CS...   \n",
       "\n",
       "                                  company  \n",
       "0               Berkley Recruitment Group  \n",
       "1        Emboss Creative & Design Pte Ltd  \n",
       "2   INFO-TECH SYSTEMS INTEGRATORS PTE LTD  \n",
       "3                    Aryan Search Pte Ltd  \n",
       "4                         Infinity JobCom  \n",
       "..                                    ...  \n",
       "50                            SourceClear  \n",
       "51                                 Paktor  \n",
       "52                    1LIVEWELL PTE. LTD.  \n",
       "53                    GoDigital Singapore  \n",
       "54                                    NaN  \n",
       "\n",
       "[55 rows x 3 columns]"
      ]
     },
     "execution_count": 11,
     "metadata": {},
     "output_type": "execute_result"
    }
   ],
   "source": []
  },
  {
   "cell_type": "code",
   "execution_count": 8,
   "metadata": {
    "collapsed": true
   },
   "outputs": [],
   "source": [
    "consolidated_table.to_csv(\"jobs.csv\",  encoding='utf-8')"
   ]
  },
  {
   "cell_type": "code",
   "execution_count": null,
   "metadata": {
    "collapsed": true
   },
   "outputs": [],
   "source": []
  }
 ],
 "metadata": {
  "kernelspec": {
   "display_name": "Python 2",
   "language": "python",
   "name": "python2"
  },
  "language_info": {
   "codemirror_mode": {
    "name": "ipython",
    "version": 2
   },
   "file_extension": ".py",
   "mimetype": "text/x-python",
   "name": "python",
   "nbconvert_exporter": "python",
   "pygments_lexer": "ipython2",
   "version": "2.7.11"
  }
 },
 "nbformat": 4,
 "nbformat_minor": 0
}
